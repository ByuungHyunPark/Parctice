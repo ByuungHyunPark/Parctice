{
 "cells": [
  {
   "cell_type": "markdown",
   "metadata": {},
   "source": [
    "# Heading\n",
    "># ABCDEFG\n",
    ">## ABCDEFG\n",
    ">### ABCDEFG\n",
    ">#### ABCDEFG\n",
    ">##### ABCDEFG\n",
    "※ '#' 다음에 공백 한칸 사용하는것이 중요"
   ]
  },
  {
   "cell_type": "markdown",
   "metadata": {},
   "source": [
    "# List 리스트, 목록\n",
    "\n",
    "1. 첫 번째\n",
    "2. 두 번째\n",
    "3. 세 번째\n",
    "1. 1을 다시 써도 네 번째"
   ]
  },
  {
   "cell_type": "markdown",
   "metadata": {},
   "source": [
    "# 들여쓰기\n",
    ">들여쓰기<br> \n",
    ">- 들여쓰기 리스트로 만들기<br>\n",
    ">- 들여쓰기 리스트로 만들기2"
   ]
  },
  {
   "cell_type": "markdown",
   "metadata": {},
   "source": [
    "# 강조\n",
    ">- _이탤릭_  or *이탤릭* <br>\n",
    ">- __볼드__ or **볼드**<br>\n",
    ">- ___이탤릭볼드___ or ***이탤릭볼드***<br>\n",
    ">- **이렇게 _할수도_**<br>\n",
    ">- ~~취소선~~<br>\n",
    ">- 원하는 `문자열` 강조하기<br>"
   ]
  },
  {
   "cell_type": "markdown",
   "metadata": {},
   "source": [
    "# 구분선\n",
    "> ---\n",
    "> ***\n",
    "> ___\n",
    "> * * *\n",
    "> *****\n",
    "> - - -\n",
    "> -------------------"
   ]
  },
  {
   "cell_type": "markdown",
   "metadata": {},
   "source": [
    "> ---\n",
    "> ---"
   ]
  },
  {
   "cell_type": "markdown",
   "metadata": {},
   "source": [
    "> ___\n",
    "> * * *"
   ]
  },
  {
   "cell_type": "markdown",
   "metadata": {},
   "source": [
    "# 글머리 기호\n",
    "- 빼기를 써도\n",
    "    - 빼기를 써도\n",
    "        - 빼기를 써도\n",
    "* 곱하기를 써도\n",
    "    * 곱하기를 써도\n",
    "        * 곱하기를 써도\n",
    "+ 더하기를 써도\n",
    "    + 더하기를 써도\n",
    "        + 더하기를 써도"
   ]
  },
  {
   "cell_type": "markdown",
   "metadata": {},
   "source": [
    "# Link 링크\n",
    "\n",
    "> https://naver.com<br>\n",
    "> [네이버 링크](https://naver.com) < 텍스트를 통해 링크 이동하기\n"
   ]
  },
  {
   "cell_type": "markdown",
   "metadata": {},
   "source": [
    "# 이미지\n",
    "\n",
    "> ![](https://s.pstatic.net/static/www/mobile/edit/2020/0427/mobile_144127397554.png)\n",
    "링크를 통해 이미지 가져오기"
   ]
  },
  {
   "cell_type": "markdown",
   "metadata": {},
   "source": [
    "# 간단한 테이블 만들기\n",
    "1   | 2   |  3\n",
    "--- | --- | ---\n",
    "표 쓸때는 | 중간 두번째줄에 | `---` 필요\n",
    "ABCD      | EFGH            |  IJKL"
   ]
  },
  {
   "cell_type": "markdown",
   "metadata": {},
   "source": [
    "# Mathematical Symbol\n",
    "\n",
    "\\begin{align}\n",
    "\\ \\frac{1}{2} = \\frac{2}{4} \n",
    "\\\\x = \\sigma(y-x)\n",
    "\\\\y = \\rho x - y - xz\n",
    "\\\\z = -\\beta z + xy\n",
    "\\\n",
    "\\end{align}"
   ]
  },
  {
   "cell_type": "markdown",
   "metadata": {},
   "source": [
    "# Color \n",
    "\n",
    "<font color = \"red\">글씨 색깔 넣어주기 </font><br>\n",
    "글씨 <font color =\"blue\"> 색깔 넣어주기 </font><br>\n",
    "글씨 <font color =\"yellow\"> 색깔 </font>넣어주기"
   ]
  }
 ],
 "metadata": {
  "kernelspec": {
   "display_name": "Python 3",
   "language": "python",
   "name": "python3"
  },
  "language_info": {
   "codemirror_mode": {
    "name": "ipython",
    "version": 3
   },
   "file_extension": ".py",
   "mimetype": "text/x-python",
   "name": "python",
   "nbconvert_exporter": "python",
   "pygments_lexer": "ipython3",
   "version": "3.7.6"
  }
 },
 "nbformat": 4,
 "nbformat_minor": 4
}
