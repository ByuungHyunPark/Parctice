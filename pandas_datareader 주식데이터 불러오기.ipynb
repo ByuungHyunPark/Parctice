{
 "cells": [
  {
   "cell_type": "markdown",
   "metadata": {},
   "source": [
    "https://financedata.github.io/posts/finance-data-reader-users-guide.html"
   ]
  },
  {
   "cell_type": "code",
   "execution_count": 1,
   "metadata": {},
   "outputs": [
    {
     "name": "stderr",
     "output_type": "stream",
     "text": [
      "C:\\Anaconda3_19_1222\\lib\\site-packages\\pandas_datareader\\compat\\__init__.py:7: FutureWarning: pandas.util.testing is deprecated. Use the functions in the public API at pandas.testing instead.\n",
      "  from pandas.util.testing import assert_frame_equal\n"
     ]
    }
   ],
   "source": [
    "#pip install -U finance-datareader\n",
    "#pip install pandas-datareader\n",
    "import pandas_datareader as wb\n",
    "import pandas as pd\n",
    "import datetime\n",
    "import matplotlib.pyplot as plt\n",
    "import FinanceDataReader as fdr\n",
    "\n",
    "pd.set_option('precision', 4)  # 소숫점 4째자리까지 표현\n",
    "\n",
    "start = datetime.datetime(2018,1,1)   #시작일\n",
    "end = datetime.datetime(2020, 5, 22)  #종료일"
   ]
  },
  {
   "cell_type": "markdown",
   "metadata": {},
   "source": [
    "#####  한국거래소 상장종목 전체의 데이터프레임 생성\n"
   ]
  },
  {
   "cell_type": "code",
   "execution_count": 2,
   "metadata": {},
   "outputs": [
    {
     "data": {
      "text/html": [
       "<div>\n",
       "<style scoped>\n",
       "    .dataframe tbody tr th:only-of-type {\n",
       "        vertical-align: middle;\n",
       "    }\n",
       "\n",
       "    .dataframe tbody tr th {\n",
       "        vertical-align: top;\n",
       "    }\n",
       "\n",
       "    .dataframe thead th {\n",
       "        text-align: right;\n",
       "    }\n",
       "</style>\n",
       "<table border=\"1\" class=\"dataframe\">\n",
       "  <thead>\n",
       "    <tr style=\"text-align: right;\">\n",
       "      <th></th>\n",
       "      <th>Symbol</th>\n",
       "      <th>Market</th>\n",
       "      <th>Name</th>\n",
       "      <th>Sector</th>\n",
       "    </tr>\n",
       "  </thead>\n",
       "  <tbody>\n",
       "    <tr>\n",
       "      <th>0</th>\n",
       "      <td>060310</td>\n",
       "      <td>KOSDAQ</td>\n",
       "      <td>3S</td>\n",
       "      <td>특수 목적용 기계 제조업</td>\n",
       "    </tr>\n",
       "    <tr>\n",
       "      <th>1</th>\n",
       "      <td>095570</td>\n",
       "      <td>KOSPI</td>\n",
       "      <td>AJ네트웍스</td>\n",
       "      <td>산업용 기계 및 장비 임대업</td>\n",
       "    </tr>\n",
       "    <tr>\n",
       "      <th>2</th>\n",
       "      <td>006840</td>\n",
       "      <td>KOSPI</td>\n",
       "      <td>AK홀딩스</td>\n",
       "      <td>기타 금융업</td>\n",
       "    </tr>\n",
       "    <tr>\n",
       "      <th>3</th>\n",
       "      <td>054620</td>\n",
       "      <td>KOSDAQ</td>\n",
       "      <td>APS홀딩스</td>\n",
       "      <td>기타 금융업</td>\n",
       "    </tr>\n",
       "    <tr>\n",
       "      <th>4</th>\n",
       "      <td>265520</td>\n",
       "      <td>KOSDAQ</td>\n",
       "      <td>AP시스템</td>\n",
       "      <td>특수 목적용 기계 제조업</td>\n",
       "    </tr>\n",
       "  </tbody>\n",
       "</table>\n",
       "</div>"
      ],
      "text/plain": [
       "   Symbol  Market    Name           Sector\n",
       "0  060310  KOSDAQ      3S    특수 목적용 기계 제조업\n",
       "1  095570   KOSPI  AJ네트웍스  산업용 기계 및 장비 임대업\n",
       "2  006840   KOSPI   AK홀딩스           기타 금융업\n",
       "3  054620  KOSDAQ  APS홀딩스           기타 금융업\n",
       "4  265520  KOSDAQ   AP시스템    특수 목적용 기계 제조업"
      ]
     },
     "execution_count": 2,
     "metadata": {},
     "output_type": "execute_result"
    }
   ],
   "source": [
    "df_krx = fdr.StockListing('KRX')\n",
    "df_krx = df_krx[['Symbol', 'Market', 'Name','Sector']]\n",
    "\n",
    "df_krx.head()"
   ]
  },
  {
   "cell_type": "markdown",
   "metadata": {},
   "source": [
    "##### 한국거래소 데이터프레임으로 코스피 데이터프레임 , 코스닥 데이터프레임 생성"
   ]
  },
  {
   "cell_type": "code",
   "execution_count": 3,
   "metadata": {},
   "outputs": [
    {
     "name": "stdout",
     "output_type": "stream",
     "text": [
      "코스피 종목 수 :  997\n",
      "코스닥 종목 수 :  1412\n"
     ]
    }
   ],
   "source": [
    "한국거래소 상장종목 전체\n",
    "kospi_df = df_krx[df_krx['Market'] == 'KOSPI']\n",
    "kosdaq_df = df_krx[df_krx['Market'] == 'KOSDAQ']\n",
    "\n",
    "print('코스피 종목 수 : ', len(kospi_df)); print('코스닥 종목 수 : ', len(kosdaq_df))"
   ]
  },
  {
   "cell_type": "markdown",
   "metadata": {},
   "source": [
    "##### 종목 이름을 검색하면 , 해당 종목에 맞는 종목코드를 반환해주는 함수 생성\n",
    "- 코스피는 종목코드 뒤에 .ks 추가\n",
    "- 코스닥은 종목코드 뒤에 .kq 추가"
   ]
  },
  {
   "cell_type": "code",
   "execution_count": 6,
   "metadata": {},
   "outputs": [],
   "source": [
    "def get_code(stock_name):\n",
    "    if stock_name in kosdaq_df['Name'].values:\n",
    "        return_value = kosdaq_df.loc[kosdaq_df['Name'] == stock_name ,  'Symbol'].values[0]+'.kq'\n",
    "        return return_value\n",
    "    \n",
    "    elif stock_name in kospi_df['Name'].values:\n",
    "        return_value = kospi_df.loc[kospi_df['Name'] == stock_name, 'Symbol'].values[0] + '.ks'\n",
    "        return return_value\n",
    "    else:\n",
    "        print('존재하지 않는 종목입니다')"
   ]
  },
  {
   "cell_type": "markdown",
   "metadata": {},
   "source": [
    "##### 삼성, 네이버, 카카오 주가 데이터프레임 생성\n",
    "- import pandas_datareader as wb \n",
    "    - yahoo finance 에서 정보를 받아올 수 있게 해주는 라이브러리\n",
    "    - wb.DataReater(종목코드, \"yahoo\", 시작일 , 종료일)"
   ]
  },
  {
   "cell_type": "code",
   "execution_count": 9,
   "metadata": {},
   "outputs": [],
   "source": [
    "Samsung_stock = wb.DataReader(get_code('삼성전자') , \"yahoo\", start,end)\n",
    "Naver_stock = wb.DataReader(get_code('NAVER') , \"yahoo\", start,end)\n",
    "Kakao_stock = wb.DataReader(get_code('카카오') , \"yahoo\", start,end) "
   ]
  },
  {
   "cell_type": "markdown",
   "metadata": {},
   "source": [
    "##### 장 마감 주가를 시각화"
   ]
  },
  {
   "cell_type": "code",
   "execution_count": 8,
   "metadata": {
    "scrolled": true
   },
   "outputs": [
    {
     "data": {
      "image/png": "[encoded data removed]",
      "text/plain": [
       "<Figure size 432x288 with 1 Axes>"
      ]
     },
     "metadata": {
      "needs_background": "light"
     },
     "output_type": "display_data"
    }
   ],
   "source": [
    "Samsung_stock['Close'].plot(label = 'Samsung')\n",
    "Naver_stock['Close'].plot(label = 'Naver')\n",
    "Kakao_stock['Close'].plot(label = 'Kakao')\n",
    "plt.grid()\n",
    "\n",
    "plt.legend()\n",
    "plt.show()"
   ]
  }
 ],
 "metadata": {
  "kernelspec": {
   "display_name": "Python 3",
   "language": "python",
   "name": "python3"
  },
  "language_info": {
   "codemirror_mode": {
    "name": "ipython",
    "version": 3
   },
   "file_extension": ".py",
   "mimetype": "text/x-python",
   "name": "python",
   "nbconvert_exporter": "python",
   "pygments_lexer": "ipython3",
   "version": "3.7.6"
  }
 },
 "nbformat": 4,
 "nbformat_minor": 4
}
