{
 "cells": [
  {
   "cell_type": "code",
   "execution_count": null,
   "metadata": {},
   "outputs": [],
   "source": [
    "import pandas as pd\n",
    "\n",
    "path = 'C:/Users/Admin/Desktop/전기차충전인프라설치입지선정/샘플데이터/'\n",
    "\n",
    "\n",
    "youdong_07 = pd.read_csv(path + '천안 유동인구 7월_sample.csv',\n",
    "                         header=0, encoding='cp949', engine='python')"
   ]
  },
  {
   "cell_type": "code",
   "execution_count": null,
   "metadata": {},
   "outputs": [],
   "source": [
    "colname = list(youdong_07)\n",
    "colsplit = colname[0].split('|')"
   ]
  },
  {
   "cell_type": "code",
   "execution_count": null,
   "metadata": {},
   "outputs": [],
   "source": [
    "youdong_07_2 = youdong_07.rename({colname[0]:'col'}, axis='columns')"
   ]
  },
  {
   "cell_type": "code",
   "execution_count": null,
   "metadata": {},
   "outputs": [],
   "source": [
    "for i in range(0, len(colsplit)):\n",
    "    youdong_07[str(colsplit[i])] = youdong_07_2.col.str.split('|').str[i]"
   ]
  },
  {
   "cell_type": "code",
   "execution_count": null,
   "metadata": {},
   "outputs": [],
   "source": [
    "del youdong_07[colname[0]]"
   ]
  },
  {
   "cell_type": "code",
   "execution_count": null,
   "metadata": {
    "scrolled": false
   },
   "outputs": [],
   "source": [
    "youdong_07.head(2)"
   ]
  },
  {
   "cell_type": "code",
   "execution_count": null,
   "metadata": {},
   "outputs": [],
   "source": [
    "import pandas as pd\n",
    "\n",
    "youdong_08 = pd.read_csv(path + '천안 유동인구 8월_sample.csv',\n",
    "                         header=0, encoding='cp949', engine='python')\n",
    "colname = list(youdong_08)\n",
    "colsplit = colname[0].split('|')\n",
    "youdong_08_2 = youdong_08.rename({colname[0]:'col'}, axis='columns')\n",
    "for i in range(0, len(colsplit)):\n",
    "    youdong_08[str(colsplit[i])] = youdong_08_2.col.str.split('|').str[i]\n",
    "del youdong_08[colname[0]]"
   ]
  },
  {
   "cell_type": "code",
   "execution_count": null,
   "metadata": {},
   "outputs": [],
   "source": [
    "youdong_08.head(2)"
   ]
  },
  {
   "cell_type": "code",
   "execution_count": null,
   "metadata": {},
   "outputs": [],
   "source": [
    "import pandas as pd\n",
    "\n",
    "youdong_09 = pd.read_csv('천안 유동인구 9월_sample.csv',\n",
    "                         header=0, encoding='cp949', engine='python')\n",
    "colname = list(youdong_09)\n",
    "colsplit = colname[0].split('|')\n",
    "youdong_09_2 = youdong_09.rename({colname[0]:'col'}, axis='columns')\n",
    "for i in range(0, len(colsplit)):\n",
    "    youdong_09[str(colsplit[i])] = youdong_09_2.col.str.split('|').str[i]\n",
    "del youdong_09[colname[0]]"
   ]
  },
  {
   "cell_type": "code",
   "execution_count": null,
   "metadata": {
    "scrolled": true
   },
   "outputs": [],
   "source": [
    "youdong_09.head(2)"
   ]
  },
  {
   "cell_type": "code",
   "execution_count": null,
   "metadata": {},
   "outputs": [],
   "source": [
    "youdong_total=pd.concat([youdong_07, youdong_08, youdong_09])"
   ]
  },
  {
   "cell_type": "code",
   "execution_count": null,
   "metadata": {},
   "outputs": [],
   "source": [
    "import numpy as np\n",
    "\n",
    "youdong_total['total'] = 0\n",
    "\n",
    "for i in range(0, 24):\n",
    "    if i < 10:\n",
    "        youdong_total['total']= youdong_total['total'].astype(float)+youdong_total['TMST_0'+str(i)].astype(float)\n",
    "    else:\n",
    "        youdong_total['total']= youdong_total['total'].astype(float)+youdong_total['TMST_'+str(i)].astype(float)"
   ]
  },
  {
   "cell_type": "code",
   "execution_count": null,
   "metadata": {},
   "outputs": [],
   "source": [
    "youdong_total['total']"
   ]
  },
  {
   "cell_type": "code",
   "execution_count": null,
   "metadata": {},
   "outputs": [],
   "source": [
    "result=youdong_total.groupby(['X_COORD', 'Y_COORD'], as_index=False)['total'].sum()"
   ]
  },
  {
   "cell_type": "code",
   "execution_count": null,
   "metadata": {},
   "outputs": [],
   "source": [
    "result.head(8)"
   ]
  },
  {
   "cell_type": "code",
   "execution_count": null,
   "metadata": {},
   "outputs": [],
   "source": [
    "result.to_csv(\"C:\\\\Users\\\\USER\\\\Desktop\\\\샘플데이터\\\\천안 유동인구.csv\", header = True, index=False)"
   ]
  }
 ],
 "metadata": {
  "kernelspec": {
   "display_name": "Python 3",
   "language": "python",
   "name": "python3"
  },
  "language_info": {
   "codemirror_mode": {
    "name": "ipython",
    "version": 3
   },
   "file_extension": ".py",
   "mimetype": "text/x-python",
   "name": "python",
   "nbconvert_exporter": "python",
   "pygments_lexer": "ipython3",
   "version": "3.7.6"
  }
 },
 "nbformat": 4,
 "nbformat_minor": 2
}
